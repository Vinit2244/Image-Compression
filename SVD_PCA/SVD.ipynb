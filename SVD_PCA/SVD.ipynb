{
 "cells": [
  {
   "cell_type": "markdown",
   "id": "2c23932b",
   "metadata": {},
   "source": [
    "### Note that the layers and masked images generated here "
   ]
  },
  {
   "cell_type": "code",
   "execution_count": 54,
   "id": "0deafff6",
   "metadata": {},
   "outputs": [],
   "source": [
    "import numpy as np\n",
    "import matplotlib.pyplot as plt\n",
    "\n",
    "# this function displays the image which is in the form of data 2D array\n",
    "def plot_img(data):\n",
    "    plt.imshow(data, cmap='binary')  # 'gray' colormap for grayscale images\n",
    "    plt.xticks([]) # remove x-ticks\n",
    "    plt.yticks([]) # remove y-ticks\n",
    "    plt.show()\n",
    "\n",
    "# function to print all the 6 images in a row\n",
    "def plot_imgs(data_matrix):\n",
    "    fig, axes = plt.subplots(1, 6, figsize=(6, 1), subplot_kw={'xticks':[], 'yticks':[]}, gridspec_kw=dict(hspace=0.1, wspace=0.1))\n",
    "    for i, ax in enumerate(axes.flat):\n",
    "        ax.imshow(data_matrix[i], cmap='binary', interpolation='nearest')"
   ]
  },
  {
   "cell_type": "code",
   "execution_count": 55,
   "id": "722f28a0",
   "metadata": {},
   "outputs": [
    {
     "name": "stdout",
     "output_type": "stream",
     "text": [
      "Original Image:\n"
     ]
    },
    {
     "data": {
      "image/png": "[encoded data removed]",
      "text/plain": [
       "<Figure size 640x480 with 1 Axes>"
      ]
     },
     "metadata": {},
     "output_type": "display_data"
    }
   ],
   "source": [
    "# image 2D array\n",
    "img = np.array([[0,1,1,0,1,1,0],\n",
    "                [1,1,1,1,1,1,1],\n",
    "                [1,1,1,1,1,1,1],\n",
    "                [0,1,1,1,1,1,0],\n",
    "                [0,0,1,1,1,0,0],\n",
    "                [0,0,0,1,0,0,0]])\n",
    "\n",
    "print(\"Original Image:\")\n",
    "plot_img(img)\n",
    "# finding U, S and V using the .svd method of linalg class of numpy\n",
    "U, S, V = np.linalg.svd(img)\n",
    "# converting all the numpy 2D arrays to 2D python lists\n",
    "U = [row.tolist() for row in U] # converting each row to list\n",
    "S = S.tolist()\n",
    "V = [row.tolist() for row in V] # converting each row to list"
   ]
  },
  {
   "cell_type": "code",
   "execution_count": 56,
   "id": "392ba95f",
   "metadata": {},
   "outputs": [
    {
     "name": "stdout",
     "output_type": "stream",
     "text": [
      "Layers Generated: \n"
     ]
    },
    {
     "data": {
      "image/png": "[encoded data removed]",
      "text/plain": [
       "<Figure size 600x100 with 6 Axes>"
      ]
     },
     "metadata": {},
     "output_type": "display_data"
    }
   ],
   "source": [
    "# All the layers in python can be generated by this code (taking outer product)\n",
    "# array to store all the layers\n",
    "array_of_layers = []\n",
    "for layer in range(len(U[0])): # number of layers = number of columns of U\n",
    "    img_layer = [] # each layer would be a 2D matrix\n",
    "    colU = []\n",
    "    rowV = V[layer] # note that the column of V is same as row of $V^{\\top}$\n",
    "    for row in range(len(U)):\n",
    "        colU.append(U[row][layer])\n",
    "    sigma = S[layer]\n",
    "    for row in range(len(colU)):\n",
    "        r = []\n",
    "        for i in range(len(rowV)):\n",
    "            r.append(colU[row] * rowV[i] * sigma)\n",
    "        img_layer.append(r)\n",
    "    array_of_layers.append(img_layer)\n",
    "\n",
    "print(\"Layers Generated: \")\n",
    "plot_imgs(array_of_layers)"
   ]
  },
  {
   "cell_type": "code",
   "execution_count": 57,
   "id": "070cfbbd",
   "metadata": {},
   "outputs": [
    {
     "name": "stdout",
     "output_type": "stream",
     "text": [
      "Masked Images:\n"
     ]
    },
    {
     "data": {
      "image/png": "[encoded data removed]",
      "text/plain": [
       "<Figure size 600x100 with 6 Axes>"
      ]
     },
     "metadata": {},
     "output_type": "display_data"
    }
   ],
   "source": [
    "# The masked images can be generated by the following code\n",
    "array_of_masked_images = []\n",
    "for layer in array_of_layers:\n",
    "    if len(array_of_masked_images) == 0:\n",
    "        array_of_masked_images.append(layer)\n",
    "        pass\n",
    "    else:\n",
    "        previous_img = array_of_masked_images[-1]\n",
    "        curr_layer = layer\n",
    "        # generates a zero array of the dimensions of the image\n",
    "        new_image = [[0 for _ in range(len(previous_img[0]))] for _ in range(len(previous_img))]\n",
    "        for i in range(len(curr_layer)):\n",
    "            for j in range(len(curr_layer[0])):\n",
    "                new_image[i][j] += previous_img[i][j] + curr_layer[i][j]\n",
    "        array_of_masked_images.append(new_image)\n",
    "\n",
    "print(\"Masked Images:\")\n",
    "plot_imgs(array_of_masked_images)"
   ]
  },
  {
   "cell_type": "code",
   "execution_count": null,
   "id": "fdf1f951",
   "metadata": {},
   "outputs": [],
   "source": []
  }
 ],
 "metadata": {
  "kernelspec": {
   "display_name": "Python 3 (ipykernel)",
   "language": "python",
   "name": "python3"
  },
  "language_info": {
   "codemirror_mode": {
    "name": "ipython",
    "version": 3
   },
   "file_extension": ".py",
   "mimetype": "text/x-python",
   "name": "python",
   "nbconvert_exporter": "python",
   "pygments_lexer": "ipython3",
   "version": "3.10.6"
  }
 },
 "nbformat": 4,
 "nbformat_minor": 5
}
